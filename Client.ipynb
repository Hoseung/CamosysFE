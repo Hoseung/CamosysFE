{
 "cells": [
  {
   "cell_type": "code",
   "execution_count": 2,
   "id": "fcc816f1-01ea-4249-aed5-0cbbcc3061ec",
   "metadata": {},
   "outputs": [],
   "source": [
    "import socket\n",
    "import struct\n",
    "import numpy as np\n",
    "import cv2"
   ]
  },
  {
   "cell_type": "code",
   "execution_count": 3,
   "id": "f9392000-7e09-4a2d-a27c-05a96ed01684",
   "metadata": {},
   "outputs": [
    {
     "ename": "ValueError",
     "evalue": "cannot reshape array of size 691200 into shape (720,960,3)",
     "output_type": "error",
     "traceback": [
      "\u001b[0;31m---------------------------------------------------------------------------\u001b[0m",
      "\u001b[0;31mValueError\u001b[0m                                Traceback (most recent call last)",
      "Cell \u001b[0;32mIn[3], line 52\u001b[0m\n\u001b[1;32m     49\u001b[0m         cv2\u001b[38;5;241m.\u001b[39mdestroyAllWindows()\n\u001b[1;32m     51\u001b[0m \u001b[38;5;28;01mif\u001b[39;00m \u001b[38;5;18m__name__\u001b[39m \u001b[38;5;241m==\u001b[39m \u001b[38;5;124m\"\u001b[39m\u001b[38;5;124m__main__\u001b[39m\u001b[38;5;124m\"\u001b[39m:\n\u001b[0;32m---> 52\u001b[0m     main(\u001b[38;5;124m'\u001b[39m\u001b[38;5;124m127.0.0.1\u001b[39m\u001b[38;5;124m'\u001b[39m)\n",
      "Cell \u001b[0;32mIn[3], line 29\u001b[0m, in \u001b[0;36mmain\u001b[0;34m(server_ip)\u001b[0m\n\u001b[1;32m     26\u001b[0m         \u001b[38;5;28;01mbreak\u001b[39;00m\n\u001b[1;32m     27\u001b[0m     frame_data \u001b[38;5;241m+\u001b[39m\u001b[38;5;241m=\u001b[39m packet\n\u001b[0;32m---> 29\u001b[0m rgb_frame \u001b[38;5;241m=\u001b[39m np\u001b[38;5;241m.\u001b[39mfrombuffer(frame_data, dtype\u001b[38;5;241m=\u001b[39mnp\u001b[38;5;241m.\u001b[39muint8)\u001b[38;5;241m.\u001b[39mreshape((frame_height, frame_width, \u001b[38;5;241m3\u001b[39m))\n\u001b[1;32m     31\u001b[0m \u001b[38;5;66;03m# Display the frame\u001b[39;00m\n\u001b[1;32m     32\u001b[0m cv2\u001b[38;5;241m.\u001b[39mimshow(\u001b[38;5;124m'\u001b[39m\u001b[38;5;124mFrame\u001b[39m\u001b[38;5;124m'\u001b[39m, rgb_frame)\n",
      "\u001b[0;31mValueError\u001b[0m: cannot reshape array of size 691200 into shape (720,960,3)"
     ]
    }
   ],
   "source": [
    "import socket\n",
    "import struct\n",
    "import numpy as np\n",
    "import cv2\n",
    "\n",
    "def main(server_ip):\n",
    "    server_address = (server_ip, 65432)\n",
    "    sock = socket.socket(socket.AF_INET, socket.SOCK_STREAM)\n",
    "    sock.connect(server_address)\n",
    "\n",
    "    frame_height, frame_width = 360, 6\n",
    "\n",
    "    try:\n",
    "        while True:\n",
    "            # Receive frame size\n",
    "            frame_size_data = sock.recv(4)\n",
    "            if not frame_size_data:\n",
    "                break\n",
    "            frame_size = struct.unpack('!I', frame_size_data)[0]\n",
    "\n",
    "            # Receive frame data\n",
    "            frame_data = b''\n",
    "            while len(frame_data) < frame_size:\n",
    "                packet = sock.recv(frame_size - len(frame_data))\n",
    "                if not packet:\n",
    "                    break\n",
    "                frame_data += packet\n",
    "\n",
    "            rgb_frame = np.frombuffer(frame_data, dtype=np.uint8).reshape((frame_height, frame_width, 3))\n",
    "\n",
    "            # Display the frame\n",
    "            cv2.imshow('Frame', rgb_frame)\n",
    "\n",
    "            # Receive byte array\n",
    "            byte_array_size = 10 * 1 + 10 * 2  # 10 INT8 + 10 Float16\n",
    "            byte_array_data = sock.recv(byte_array_size)\n",
    "            byte_array = struct.unpack('!10b10e', byte_array_data)\n",
    "            int8_values = byte_array[:10]\n",
    "            float16_values = byte_array[10:]\n",
    "\n",
    "            print(\"INT8 values:\", int8_values)\n",
    "            print(\"Float16 values:\", float16_values)\n",
    "\n",
    "            if cv2.waitKey(1) & 0xFF == ord('q'):\n",
    "                break\n",
    "\n",
    "    finally:\n",
    "        sock.close()\n",
    "        cv2.destroyAllWindows()\n",
    "\n",
    "if __name__ == \"__main__\":\n",
    "    main('127.0.0.1')\n"
   ]
  },
  {
   "cell_type": "code",
   "execution_count": 4,
   "id": "361ee6da-99a7-4788-93ab-5ea12dfad624",
   "metadata": {},
   "outputs": [
    {
     "data": {
      "text/plain": [
       "2160.0"
      ]
     },
     "execution_count": 4,
     "metadata": {},
     "output_type": "execute_result"
    }
   ],
   "source": [
    "691200/320"
   ]
  },
  {
   "cell_type": "code",
   "execution_count": null,
   "id": "dd21a3cf-d9d2-49e5-b7d9-7f48f4d4e676",
   "metadata": {},
   "outputs": [],
   "source": []
  }
 ],
 "metadata": {
  "kernelspec": {
   "display_name": "Python 3 (ipykernel)",
   "language": "python",
   "name": "python3"
  },
  "language_info": {
   "codemirror_mode": {
    "name": "ipython",
    "version": 3
   },
   "file_extension": ".py",
   "mimetype": "text/x-python",
   "name": "python",
   "nbconvert_exporter": "python",
   "pygments_lexer": "ipython3",
   "version": "3.12.4"
  }
 },
 "nbformat": 4,
 "nbformat_minor": 5
}
