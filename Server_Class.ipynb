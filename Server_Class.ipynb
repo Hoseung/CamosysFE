{
 "cells": [
  {
   "cell_type": "code",
   "execution_count": null,
   "id": "c146c26b-70b0-4ac3-a314-784510429e09",
   "metadata": {},
   "outputs": [
    {
     "name": "stdout",
     "output_type": "stream",
     "text": [
      "Server listening on 169.254.31.226:65432\n"
     ]
    }
   ],
   "source": [
    "from server import Server\n",
    "\n",
    "host_ip = ['169.254.31.226', '192.168.0.165', '127.0.0.1'][0]\n",
    "# Example usage\n",
    "if __name__ == \"__main__\":\n",
    "    server = Server(host_ip=host_ip, \n",
    "                    frame_width=640, \n",
    "                    frame_height=480,\n",
    "                    source='camera',\n",
    "                    #img_dir=\"../3D_keypoint_analysis/doll/\", \n",
    "                    label_path=None)\n",
    "    server.run()\n"
   ]
  },
  {
   "cell_type": "code",
   "execution_count": null,
   "id": "9dd014c1-e22d-4baf-9dee-faddc45c4116",
   "metadata": {},
   "outputs": [],
   "source": []
  },
  {
   "cell_type": "code",
   "execution_count": null,
   "id": "256c2368-b987-4cb4-adc7-d5f21666dedc",
   "metadata": {},
   "outputs": [],
   "source": []
  }
 ],
 "metadata": {
  "kernelspec": {
   "display_name": "Python 3 (ipykernel)",
   "language": "python",
   "name": "python3"
  },
  "language_info": {
   "codemirror_mode": {
    "name": "ipython",
    "version": 3
   },
   "file_extension": ".py",
   "mimetype": "text/x-python",
   "name": "python",
   "nbconvert_exporter": "python",
   "pygments_lexer": "ipython3",
   "version": "3.12.4"
  }
 },
 "nbformat": 4,
 "nbformat_minor": 5
}
