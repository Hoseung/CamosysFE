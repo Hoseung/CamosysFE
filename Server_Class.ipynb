{
 "cells": [
  {
   "cell_type": "code",
   "execution_count": 1,
   "id": "c146c26b-70b0-4ac3-a314-784510429e09",
   "metadata": {},
   "outputs": [
    {
     "name": "stdout",
     "output_type": "stream",
     "text": [
      "Server listening on 127.0.0.1:65432\n",
      "Connection from ('127.0.0.1', 44554)\n"
     ]
    },
    {
     "ename": "BrokenPipeError",
     "evalue": "[Errno 32] Broken pipe",
     "output_type": "error",
     "traceback": [
      "\u001b[0;31m---------------------------------------------------------------------------\u001b[0m",
      "\u001b[0;31mBrokenPipeError\u001b[0m                           Traceback (most recent call last)",
      "Cell \u001b[0;32mIn[1], line 11\u001b[0m\n\u001b[1;32m      9\u001b[0m \u001b[38;5;28;01mif\u001b[39;00m \u001b[38;5;18m__name__\u001b[39m \u001b[38;5;241m==\u001b[39m \u001b[38;5;124m\"\u001b[39m\u001b[38;5;124m__main__\u001b[39m\u001b[38;5;124m\"\u001b[39m:\n\u001b[1;32m     10\u001b[0m     server \u001b[38;5;241m=\u001b[39m Server(host_ip\u001b[38;5;241m=\u001b[39m\u001b[38;5;124m'\u001b[39m\u001b[38;5;124m127.0.0.1\u001b[39m\u001b[38;5;124m'\u001b[39m, img_dir\u001b[38;5;241m=\u001b[39m\u001b[38;5;124m\"\u001b[39m\u001b[38;5;124m../3D_keypoint_analysis/doll/\u001b[39m\u001b[38;5;124m\"\u001b[39m, label_path\u001b[38;5;241m=\u001b[39m\u001b[38;5;28;01mNone\u001b[39;00m)\n\u001b[0;32m---> 11\u001b[0m     server\u001b[38;5;241m.\u001b[39mrun()\n",
      "File \u001b[0;32m~/Work/CamosysFE/server.py:94\u001b[0m, in \u001b[0;36mServer.run\u001b[0;34m(self)\u001b[0m\n\u001b[1;32m     92\u001b[0m     \u001b[38;5;28;01mwhile\u001b[39;00m \u001b[38;5;28;01mTrue\u001b[39;00m:\n\u001b[1;32m     93\u001b[0m         frame \u001b[38;5;241m=\u001b[39m \u001b[38;5;28mnext\u001b[39m(\u001b[38;5;28mself\u001b[39m\u001b[38;5;241m.\u001b[39mimage_generator)\n\u001b[0;32m---> 94\u001b[0m         \u001b[38;5;28mself\u001b[39m\u001b[38;5;241m.\u001b[39msend_frame(frame)\n\u001b[1;32m     95\u001b[0m         \u001b[38;5;28mself\u001b[39m\u001b[38;5;241m.\u001b[39msend_byte_array()\n\u001b[1;32m     96\u001b[0m \u001b[38;5;28;01mfinally\u001b[39;00m:\n",
      "File \u001b[0;32m~/Work/CamosysFE/server.py:78\u001b[0m, in \u001b[0;36mServer.send_frame\u001b[0;34m(self, frame)\u001b[0m\n\u001b[1;32m     76\u001b[0m frame_data \u001b[38;5;241m=\u001b[39m resized\u001b[38;5;241m.\u001b[39mtobytes()\n\u001b[1;32m     77\u001b[0m frame_size \u001b[38;5;241m=\u001b[39m \u001b[38;5;28mlen\u001b[39m(frame_data)\n\u001b[0;32m---> 78\u001b[0m \u001b[38;5;28mself\u001b[39m\u001b[38;5;241m.\u001b[39mconn\u001b[38;5;241m.\u001b[39msendall(struct\u001b[38;5;241m.\u001b[39mpack(\u001b[38;5;124m'\u001b[39m\u001b[38;5;124m!I\u001b[39m\u001b[38;5;124m'\u001b[39m, frame_size))\n\u001b[1;32m     79\u001b[0m \u001b[38;5;28mself\u001b[39m\u001b[38;5;241m.\u001b[39mconn\u001b[38;5;241m.\u001b[39msendall(frame_data)\n",
      "\u001b[0;31mBrokenPipeError\u001b[0m: [Errno 32] Broken pipe"
     ]
    }
   ],
   "source": [
    "import socket\n",
    "import cv2\n",
    "import struct\n",
    "import numpy as np\n",
    "from datagenerator import DataGenerator\n",
    "from server import Server\n",
    "\n",
    "# Example usage\n",
    "if __name__ == \"__main__\":\n",
    "    server = Server(host_ip='127.0.0.1', \n",
    "                    frame_width=640, \n",
    "                    frame_height=480\n",
    "                    img_dir=\"../3D_keypoint_analysis/doll/\", \n",
    "                    label_path=None)\n",
    "    server.run()\n"
   ]
  },
  {
   "cell_type": "code",
   "execution_count": null,
   "id": "e3e042c5-cc4a-4f42-b69d-471e9627a34d",
   "metadata": {},
   "outputs": [],
   "source": []
  }
 ],
 "metadata": {
  "kernelspec": {
   "display_name": "Python 3 (ipykernel)",
   "language": "python",
   "name": "python3"
  },
  "language_info": {
   "codemirror_mode": {
    "name": "ipython",
    "version": 3
   },
   "file_extension": ".py",
   "mimetype": "text/x-python",
   "name": "python",
   "nbconvert_exporter": "python",
   "pygments_lexer": "ipython3",
   "version": "3.12.4"
  }
 },
 "nbformat": 4,
 "nbformat_minor": 5
}
