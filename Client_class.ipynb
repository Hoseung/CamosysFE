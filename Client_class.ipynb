{
 "cells": [
  {
   "cell_type": "code",
   "execution_count": null,
   "id": "70254d96-4208-4af5-90b1-1a065ab77efa",
   "metadata": {
    "scrolled": true
   },
   "outputs": [],
   "source": [
    "from client import Client\n",
    "\n",
    "# Example usage\n",
    "client = Client(server_ip='169.254.31.226')\n",
    "print(client.label_size)\n",
    "client.run()\n"
   ]
  },
  {
   "cell_type": "code",
   "execution_count": 2,
   "id": "e8fddd33",
   "metadata": {},
   "outputs": [
    {
     "name": "stdout",
     "output_type": "stream",
     "text": [
      "distance [124]\n",
      "eye_openness [-0.808]\n",
      "drowsiness [2]\n",
      "phoneuse [ True]\n",
      "phone_use_conf [-0.3525]\n",
      "passenger [[False  True False False  True]]\n",
      "face_landmarks_x [[ 58 267  74 226 633 421 515 162 468 136 373 193 109 357 417 623  95 433\n",
      "  298 610 549 188 345 454 331 244 175 101 476 567 124  40  68 366 434 527\n",
      "  149 306  28 462 335  66 387 252 112 627 467 435 493 205   9 351 182 408\n",
      "  107 630  19 535 285 617 634 482  85 286 206 152   3  37]]\n",
      "face_landmarks_y [[277  46 192 451 264 158 432 195  81 465 147  38 423  58 236 290 113 465\n",
      "  253 159 280 442 356 358 452 459 300 164 476   3 127  87 303  14 170 117\n",
      "  154 103  77 316  43   8 233 216 257 118 360 440  25 224 394 337  85 432\n",
      "  437 140 478 311  33 285 230 265 326 101  26 415 451 477]]\n",
      "body_keypoints_x [[159 538 228 204 558 427 501 467 128 587 169 476 434 588]]\n",
      "body_keypoints_y [[201 349 370 456 393 264 143 575 193 557 308 396 557 345]]\n",
      "body_keypoints_z [[204 385 132 576 513 506 321 186 384 184 133 379 492 533]]\n",
      "joint_lengths [[11 17 26 32 29 45 33 17 47 25]]\n",
      "face_bounding_box [[136 132 150 148]]\n"
     ]
    }
   ],
   "source": [
    "arr = client.label_array\n",
    "for name in arr.dtype.names:\n",
    "    print(name, arr[name])"
   ]
  },
  {
   "cell_type": "code",
   "execution_count": null,
   "id": "6dbf70f9",
   "metadata": {},
   "outputs": [],
   "source": []
  }
 ],
 "metadata": {
  "kernelspec": {
   "display_name": "Python 3 (ipykernel)",
   "language": "python",
   "name": "python3"
  },
  "language_info": {
   "codemirror_mode": {
    "name": "ipython",
    "version": 3
   },
   "file_extension": ".py",
   "mimetype": "text/x-python",
   "name": "python",
   "nbconvert_exporter": "python",
   "pygments_lexer": "ipython3",
   "version": "3.11.5"
  }
 },
 "nbformat": 4,
 "nbformat_minor": 5
}
