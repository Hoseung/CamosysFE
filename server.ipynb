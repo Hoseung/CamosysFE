{
 "cells": [
  {
   "cell_type": "code",
   "execution_count": 1,
   "id": "79a8fed0-3848-494f-a160-97319ac0c959",
   "metadata": {},
   "outputs": [
    {
     "name": "stdout",
     "output_type": "stream",
     "text": [
      "Server listening on 192.168.0.66:65432\n",
      "Connection from ('192.168.0.83', 33868)\n"
     ]
    },
    {
     "ename": "BrokenPipeError",
     "evalue": "[Errno 32] Broken pipe",
     "output_type": "error",
     "traceback": [
      "\u001b[0;31m---------------------------------------------------------------------------\u001b[0m",
      "\u001b[0;31mBrokenPipeError\u001b[0m                           Traceback (most recent call last)",
      "Cell \u001b[0;32mIn[1], line 68\u001b[0m\n\u001b[1;32m     65\u001b[0m         sock\u001b[38;5;241m.\u001b[39mclose()\n\u001b[1;32m     67\u001b[0m \u001b[38;5;28;01mif\u001b[39;00m \u001b[38;5;18m__name__\u001b[39m \u001b[38;5;241m==\u001b[39m \u001b[38;5;124m\"\u001b[39m\u001b[38;5;124m__main__\u001b[39m\u001b[38;5;124m\"\u001b[39m:\n\u001b[0;32m---> 68\u001b[0m     main(\u001b[38;5;124m'\u001b[39m\u001b[38;5;124m192.168.0.66\u001b[39m\u001b[38;5;124m'\u001b[39m)\n",
      "Cell \u001b[0;32mIn[1], line 49\u001b[0m, in \u001b[0;36mmain\u001b[0;34m(host_ip)\u001b[0m\n\u001b[1;32m     47\u001b[0m frame_data \u001b[38;5;241m=\u001b[39m jpeg_frame\u001b[38;5;241m.\u001b[39mtobytes()\n\u001b[1;32m     48\u001b[0m frame_size \u001b[38;5;241m=\u001b[39m \u001b[38;5;28mlen\u001b[39m(frame_data)\n\u001b[0;32m---> 49\u001b[0m conn\u001b[38;5;241m.\u001b[39msendall(struct\u001b[38;5;241m.\u001b[39mpack(\u001b[38;5;124m'\u001b[39m\u001b[38;5;124m!I\u001b[39m\u001b[38;5;124m'\u001b[39m, frame_size))\n\u001b[1;32m     50\u001b[0m conn\u001b[38;5;241m.\u001b[39msendall(frame_data)\n\u001b[1;32m     52\u001b[0m \u001b[38;5;66;03m# Create a byte array with 10 INT8 values and 10 Float16 values\u001b[39;00m\n",
      "\u001b[0;31mBrokenPipeError\u001b[0m: [Errno 32] Broken pipe"
     ]
    }
   ],
   "source": [
    "import socket\n",
    "import struct\n",
    "import cv2\n",
    "import numpy as np\n",
    "\n",
    "def main(host_ip):\n",
    "    server_address = (host_ip, 65432)\n",
    "    sock = socket.socket(socket.AF_INET, socket.SOCK_STREAM)\n",
    "    sock.bind(server_address)\n",
    "    sock.listen(1)\n",
    "\n",
    "    print(\"Server listening on {}:{}\".format(*server_address))\n",
    "\n",
    "    conn, addr = sock.accept()\n",
    "    print(\"Connection from\", addr)\n",
    "\n",
    "    cap = cv2.VideoCapture(0)\n",
    "    if not cap.isOpened():\n",
    "        print(\"Error: Could not open webcam\")\n",
    "        return\n",
    "\n",
    "    frame_width = 1920\n",
    "    frame_height = 1080\n",
    "\n",
    "    # Set the frame width and height\n",
    "    cap.set(cv2.CAP_PROP_FRAME_WIDTH, frame_width)\n",
    "    cap.set(cv2.CAP_PROP_FRAME_HEIGHT, frame_height)\n",
    "\n",
    "    try:\n",
    "        while True:\n",
    "            ret, frame = cap.read()\n",
    "            if not ret:\n",
    "                print(\"Error: Could not read frame\")\n",
    "                break\n",
    "\n",
    "            # Ensure the frame is in RGB format (default for OpenCV)\n",
    "            resized = cv2.resize(frame, (frame_width, frame_height), \n",
    "               interpolation = cv2.INTER_LINEAR)\n",
    "\n",
    "            # Encode frame as JPEG\n",
    "            ret, jpeg_frame = cv2.imencode('.jpg', resized)\n",
    "            if not ret:\n",
    "                print(\"Error: Could not encode frame as JPEG\")\n",
    "                break\n",
    "\n",
    "            # Convert JPEG to bytes\n",
    "            frame_data = jpeg_frame.tobytes()\n",
    "            frame_size = len(frame_data)\n",
    "            conn.sendall(struct.pack('!I', frame_size))\n",
    "            conn.sendall(frame_data)\n",
    "\n",
    "            # Create a byte array with 10 INT8 values and 10 Float16 values\n",
    "            int8_values = np.random.randint(-128, 127, 10, dtype=np.int8)\n",
    "            float16_values = np.random.uniform(-1, 1, 10).astype(np.float16)\n",
    "\n",
    "            # Pack the byte array\n",
    "            byte_array = struct.pack('!10b10e', *(int8_values.tolist() + float16_values.tolist()))\n",
    "\n",
    "            # Send the byte array\n",
    "            conn.sendall(byte_array)\n",
    "\n",
    "    finally:\n",
    "        cap.release()\n",
    "        conn.close()\n",
    "        sock.close()\n",
    "\n",
    "if __name__ == \"__main__\":\n",
    "    main('192.168.0.66')\n"
   ]
  },
  {
   "cell_type": "code",
   "execution_count": null,
   "id": "b1e92318-03ee-497f-ab64-ffd6d4e6ddd7",
   "metadata": {},
   "outputs": [],
   "source": []
  },
  {
   "cell_type": "code",
   "execution_count": null,
   "id": "6e1578b4-1319-4580-bf0a-42ea621b1d49",
   "metadata": {},
   "outputs": [],
   "source": []
  }
 ],
 "metadata": {
  "kernelspec": {
   "display_name": "Python 3 (ipykernel)",
   "language": "python",
   "name": "python3"
  },
  "language_info": {
   "codemirror_mode": {
    "name": "ipython",
    "version": 3
   },
   "file_extension": ".py",
   "mimetype": "text/x-python",
   "name": "python",
   "nbconvert_exporter": "python",
   "pygments_lexer": "ipython3",
   "version": "3.12.4"
  }
 },
 "nbformat": 4,
 "nbformat_minor": 5
}
